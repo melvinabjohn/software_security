{
  "nbformat": 4,
  "nbformat_minor": 0,
  "metadata": {
    "colab": {
      "provenance": [],
      "authorship_tag": "ABX9TyOJTbO2sGsvuA8hVL2hzzhy",
      "include_colab_link": true
    },
    "kernelspec": {
      "name": "python3",
      "display_name": "Python 3"
    },
    "language_info": {
      "name": "python"
    }
  },
  "cells": [
    {
      "cell_type": "markdown",
      "metadata": {
        "id": "view-in-github",
        "colab_type": "text"
      },
      "source": [
        "<a href=\"https://colab.research.google.com/github/melvinabjohn/software_security/blob/main/SoftwareSecurity_exe_1.ipynb\" target=\"_parent\"><img src=\"https://colab.research.google.com/assets/colab-badge.svg\" alt=\"Open In Colab\"/></a>"
      ]
    },
    {
      "cell_type": "markdown",
      "source": [
        "1) Write a function / method that will return multiples of an int x up to a defined boundary y"
      ],
      "metadata": {
        "id": "4dK6TsgFM4WT"
      }
    },
    {
      "cell_type": "code",
      "source": [
        "def findMultiples(x,y):\n",
        "        multiplesList = []                #create an empty list\n",
        "        max = int(y/x)                    #find the inclusive boundary\n",
        "        for i in range(max+1):\n",
        "          multiplesList.append(i*x)\n",
        "        return multiplesList\n",
        "\n",
        "multiples =findMultiples(5,45)            #calling the function\n",
        "print(multiples)\n",
        "      "
      ],
      "metadata": {
        "colab": {
          "base_uri": "https://localhost:8080/"
        },
        "id": "pf9jkp-XM36n",
        "outputId": "f0a37e4d-d91b-455f-f333-3446fb170636"
      },
      "execution_count": 15,
      "outputs": [
        {
          "output_type": "stream",
          "name": "stdout",
          "text": [
            "[0, 5, 10, 15, 20, 25, 30, 35, 40, 45]\n"
          ]
        }
      ]
    },
    {
      "cell_type": "markdown",
      "source": [
        "2) Write a function / method that takes an array with integers as a parameter and returns the overall average value"
      ],
      "metadata": {
        "id": "S3r7panqQ2xh"
      }
    },
    {
      "cell_type": "code",
      "source": [
        "def findAverage(intArray):\n",
        "  sum =0\n",
        "  arrayLength =len(intArray) #finding length of list(Array)\n",
        "  for i in intArray:\n",
        "    sum+=i\n",
        "  average = sum/arrayLength #average = sum of values/total number of int\n",
        "  return average\n",
        "\n",
        "\n",
        "#Function call\n",
        "intArray=[1,4,5,2]\n",
        "average = findAverage(intArray)\n",
        "print(average)\n",
        "\n"
      ],
      "metadata": {
        "colab": {
          "base_uri": "https://localhost:8080/"
        },
        "id": "VRFN2jUuOsBa",
        "outputId": "41ad6e80-1564-49b4-f86b-538f7896aaf2"
      },
      "execution_count": 18,
      "outputs": [
        {
          "output_type": "stream",
          "name": "stdout",
          "text": [
            "3.0\n"
          ]
        }
      ]
    },
    {
      "cell_type": "markdown",
      "source": [
        "3) Write a method that creates a copy of an object"
      ],
      "metadata": {
        "id": "4tglv7PaTVx3"
      }
    },
    {
      "cell_type": "code",
      "source": [
        "def makeCopy(original):\n",
        "  copyObj = original.copy() #copy function is used here to create a copy of object\n",
        "  return copyObj\n",
        "\n",
        "testObj = [\"one\",\"1\"]\n",
        "copiedObj = makeCopy(testObj)\n",
        "print(copiedObj)\n"
      ],
      "metadata": {
        "colab": {
          "base_uri": "https://localhost:8080/"
        },
        "id": "ML_Z6QsNTbZx",
        "outputId": "a2ebca4a-68b8-4d69-aeb4-b40db499a9b0"
      },
      "execution_count": 22,
      "outputs": [
        {
          "output_type": "stream",
          "name": "stdout",
          "text": [
            "['one', '1']\n"
          ]
        }
      ]
    },
    {
      "cell_type": "markdown",
      "source": [
        "4) Write a function / method that will create a random password"
      ],
      "metadata": {
        "id": "qMt1xdj4VNVH"
      }
    },
    {
      "cell_type": "code",
      "source": [
        "import random #module to use random functionality of python\n",
        "\n",
        "#function to generate a 5 digit number password\n",
        "def generatePassword():\n",
        "  randomNumber = random.randint(10000,99999)\n",
        "  return(randomNumber)\n",
        "\n",
        "print(generatePassword())"
      ],
      "metadata": {
        "colab": {
          "base_uri": "https://localhost:8080/"
        },
        "id": "i0xyWz17VOXP",
        "outputId": "22a927f2-5691-4fca-cf78-a4860721240d"
      },
      "execution_count": 33,
      "outputs": [
        {
          "output_type": "stream",
          "name": "stdout",
          "text": [
            "81304\n"
          ]
        }
      ]
    },
    {
      "cell_type": "markdown",
      "source": [
        "5) Write a function / method that will query the following API: https://api.predic8.de/shop/docs#!/orders/getOrders"
      ],
      "metadata": {
        "id": "LFdfohJvW45D"
      }
    },
    {
      "cell_type": "code",
      "source": [
        "import requests #importing requests module to call rest apis\n",
        "\n",
        "def callApi(url):\n",
        "  response = requests.get(url)\n",
        "  return response.text\n",
        "\n",
        "#API Call\n",
        "url = \"https://api.predic8.de:443/shop/customers/1\"\n",
        "print(callApi(url))"
      ],
      "metadata": {
        "colab": {
          "base_uri": "https://localhost:8080/"
        },
        "id": "h8s2Y4lEW8rf",
        "outputId": "38dd9df7-2fd2-4291-a243-8f09733531f0"
      },
      "execution_count": 32,
      "outputs": [
        {
          "output_type": "stream",
          "name": "stdout",
          "text": [
            "{\"firstname\":\"Freddy\",\"lastname\":\"Meyers2\",\"orders_url\":\"/shop/customers/1/orders/\"}\n"
          ]
        }
      ]
    }
  ]
}